class Olga_Cell(nn.Module):
    def __init__(self,M=15,D=2,Poly_order=2,Passthrough=True):
        super(Olga_Cell,self).__init__()
        self.f1=AFIR(M,0)
        self.f2=AFIR(M,3)
        self.f3=AFIR(M,4)
        self.delay=Delay(D)
        self.pol_smal=Polynomial(2,Passthrough)
        self.pol_big=Polynomial(10,Passthrough)
        self.prod=Prod_cmp()
 
    def forward(self,x):
        source = x.clone()
        x=self.delay(x)
        up=self.f1(x) 
 
        mid = self.pol_smal(source)
        mid = self.prod(x,mid)
        mid = self.f2(mid)
 
        low = self.pol_big(source)
        low = self.prod(low, source)
        low = self.f3(low)
        return up+mid+low




class Olga_layer(nn.Module):
    def __init__(self, delay, width):
        super(Olga_layer, self).__init__()
        self.Cells = nn.ModuleList()
        for i in range(width):
#             print(i)
            self.Cells.append(Olga_Cell(D=delay[i]))

    def forward(self, x):
        out = torch.zeros_like(x)
        for i in range(len(self.Cells)):
            out += self.Cells[i](x)
        return out





net=Olga_layer([-3, -2, -1, 0, 1, 2, 3],7)
# net
net=net.to("cuda:0")
optimizer = torch.optim.Adam(net.parameters(), lr=1e-2)
scheduler = torch.optim.lr_scheduler.StepLR(optimizer, step_size=step_size, gamma=1)
train(train_queue, valid_queue, net, loss_fn, optimizer,5,scheduler,save_flag=False)